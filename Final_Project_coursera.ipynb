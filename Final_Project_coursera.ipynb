{
    "cells": [
        {
            "cell_type": "markdown",
            "metadata": {},
            "source": "# **Classiffication With Python**\nWe load a dataset using Pandas library, and apply the following algorithms, and find the best one for this specific dataset by accuracy evaluation methods."
        },
        {
            "cell_type": "code",
            "execution_count": 118,
            "metadata": {},
            "outputs": [],
            "source": "import matplotlib.pyplot as plt\nimport pandas as pd\nimport numpy as np\nfrom sklearn import preprocessing\n%matplotlib inline"
        },
        {
            "cell_type": "markdown",
            "metadata": {},
            "source": "### Data Sheet\nLets Download Data Sheet"
        },
        {
            "cell_type": "code",
            "execution_count": 119,
            "metadata": {},
            "outputs": [
                {
                    "name": "stdout",
                    "output_type": "stream",
                    "text": "--2022-01-03 10:20:12--  https://s3-api.us-geo.objectstorage.softlayer.net/cf-courses-data/CognitiveClass/ML0101ENv3/labs/loan_train.csv\nResolving s3-api.us-geo.objectstorage.softlayer.net (s3-api.us-geo.objectstorage.softlayer.net)... 67.228.254.196\nConnecting to s3-api.us-geo.objectstorage.softlayer.net (s3-api.us-geo.objectstorage.softlayer.net)|67.228.254.196|:443... connected.\nHTTP request sent, awaiting response... 200 OK\nLength: 23101 (23K) [text/csv]\nSaving to: \u2018loan_train.csv\u2019\n\nloan_train.csv      100%[===================>]  22.56K  --.-KB/s    in 0.001s  \n\n2022-01-03 10:20:13 (15.4 MB/s) - \u2018loan_train.csv\u2019 saved [23101/23101]\n\n"
                }
            ],
            "source": "!wget -O loan_train.csv https://s3-api.us-geo.objectstorage.softlayer.net/cf-courses-data/CognitiveClass/ML0101ENv3/labs/loan_train.csv"
        },
        {
            "cell_type": "markdown",
            "metadata": {},
            "source": "### Load Data From CSV File"
        },
        {
            "cell_type": "code",
            "execution_count": 120,
            "metadata": {},
            "outputs": [
                {
                    "data": {
                        "text/html": "<div>\n<style scoped>\n    .dataframe tbody tr th:only-of-type {\n        vertical-align: middle;\n    }\n\n    .dataframe tbody tr th {\n        vertical-align: top;\n    }\n\n    .dataframe thead th {\n        text-align: right;\n    }\n</style>\n<table border=\"1\" class=\"dataframe\">\n  <thead>\n    <tr style=\"text-align: right;\">\n      <th></th>\n      <th>Unnamed: 0</th>\n      <th>Unnamed: 0.1</th>\n      <th>loan_status</th>\n      <th>Principal</th>\n      <th>terms</th>\n      <th>effective_date</th>\n      <th>due_date</th>\n      <th>age</th>\n      <th>education</th>\n      <th>Gender</th>\n    </tr>\n  </thead>\n  <tbody>\n    <tr>\n      <th>0</th>\n      <td>0</td>\n      <td>0</td>\n      <td>PAIDOFF</td>\n      <td>1000</td>\n      <td>30</td>\n      <td>9/8/2016</td>\n      <td>10/7/2016</td>\n      <td>45</td>\n      <td>High School or Below</td>\n      <td>male</td>\n    </tr>\n    <tr>\n      <th>1</th>\n      <td>2</td>\n      <td>2</td>\n      <td>PAIDOFF</td>\n      <td>1000</td>\n      <td>30</td>\n      <td>9/8/2016</td>\n      <td>10/7/2016</td>\n      <td>33</td>\n      <td>Bechalor</td>\n      <td>female</td>\n    </tr>\n    <tr>\n      <th>2</th>\n      <td>3</td>\n      <td>3</td>\n      <td>PAIDOFF</td>\n      <td>1000</td>\n      <td>15</td>\n      <td>9/8/2016</td>\n      <td>9/22/2016</td>\n      <td>27</td>\n      <td>college</td>\n      <td>male</td>\n    </tr>\n    <tr>\n      <th>3</th>\n      <td>4</td>\n      <td>4</td>\n      <td>PAIDOFF</td>\n      <td>1000</td>\n      <td>30</td>\n      <td>9/9/2016</td>\n      <td>10/8/2016</td>\n      <td>28</td>\n      <td>college</td>\n      <td>female</td>\n    </tr>\n    <tr>\n      <th>4</th>\n      <td>6</td>\n      <td>6</td>\n      <td>PAIDOFF</td>\n      <td>1000</td>\n      <td>30</td>\n      <td>9/9/2016</td>\n      <td>10/8/2016</td>\n      <td>29</td>\n      <td>college</td>\n      <td>male</td>\n    </tr>\n  </tbody>\n</table>\n</div>",
                        "text/plain": "   Unnamed: 0  Unnamed: 0.1 loan_status  Principal  terms effective_date  \\\n0           0             0     PAIDOFF       1000     30       9/8/2016   \n1           2             2     PAIDOFF       1000     30       9/8/2016   \n2           3             3     PAIDOFF       1000     15       9/8/2016   \n3           4             4     PAIDOFF       1000     30       9/9/2016   \n4           6             6     PAIDOFF       1000     30       9/9/2016   \n\n    due_date  age             education  Gender  \n0  10/7/2016   45  High School or Below    male  \n1  10/7/2016   33              Bechalor  female  \n2  9/22/2016   27               college    male  \n3  10/8/2016   28               college  female  \n4  10/8/2016   29               college    male  "
                    },
                    "execution_count": 120,
                    "metadata": {},
                    "output_type": "execute_result"
                }
            ],
            "source": "df = pd.read_csv('loan_train.csv')\ndf.head()"
        },
        {
            "cell_type": "code",
            "execution_count": 121,
            "metadata": {},
            "outputs": [
                {
                    "data": {
                        "text/plain": "(346, 10)"
                    },
                    "execution_count": 121,
                    "metadata": {},
                    "output_type": "execute_result"
                }
            ],
            "source": "df.shape"
        },
        {
            "cell_type": "code",
            "execution_count": 122,
            "metadata": {},
            "outputs": [
                {
                    "data": {
                        "text/html": "<div>\n<style scoped>\n    .dataframe tbody tr th:only-of-type {\n        vertical-align: middle;\n    }\n\n    .dataframe tbody tr th {\n        vertical-align: top;\n    }\n\n    .dataframe thead th {\n        text-align: right;\n    }\n</style>\n<table border=\"1\" class=\"dataframe\">\n  <thead>\n    <tr style=\"text-align: right;\">\n      <th></th>\n      <th>Unnamed: 0</th>\n      <th>Unnamed: 0.1</th>\n      <th>Principal</th>\n      <th>terms</th>\n      <th>age</th>\n    </tr>\n  </thead>\n  <tbody>\n    <tr>\n      <th>count</th>\n      <td>346.000000</td>\n      <td>346.000000</td>\n      <td>346.000000</td>\n      <td>346.000000</td>\n      <td>346.000000</td>\n    </tr>\n    <tr>\n      <th>mean</th>\n      <td>202.167630</td>\n      <td>202.167630</td>\n      <td>943.641618</td>\n      <td>22.653179</td>\n      <td>30.939306</td>\n    </tr>\n    <tr>\n      <th>std</th>\n      <td>115.459715</td>\n      <td>115.459715</td>\n      <td>109.425530</td>\n      <td>7.991006</td>\n      <td>6.039418</td>\n    </tr>\n    <tr>\n      <th>min</th>\n      <td>0.000000</td>\n      <td>0.000000</td>\n      <td>300.000000</td>\n      <td>7.000000</td>\n      <td>18.000000</td>\n    </tr>\n    <tr>\n      <th>25%</th>\n      <td>107.250000</td>\n      <td>107.250000</td>\n      <td>900.000000</td>\n      <td>15.000000</td>\n      <td>27.000000</td>\n    </tr>\n    <tr>\n      <th>50%</th>\n      <td>204.500000</td>\n      <td>204.500000</td>\n      <td>1000.000000</td>\n      <td>30.000000</td>\n      <td>30.000000</td>\n    </tr>\n    <tr>\n      <th>75%</th>\n      <td>298.750000</td>\n      <td>298.750000</td>\n      <td>1000.000000</td>\n      <td>30.000000</td>\n      <td>35.000000</td>\n    </tr>\n    <tr>\n      <th>max</th>\n      <td>399.000000</td>\n      <td>399.000000</td>\n      <td>1000.000000</td>\n      <td>30.000000</td>\n      <td>51.000000</td>\n    </tr>\n  </tbody>\n</table>\n</div>",
                        "text/plain": "       Unnamed: 0  Unnamed: 0.1    Principal       terms         age\ncount  346.000000    346.000000   346.000000  346.000000  346.000000\nmean   202.167630    202.167630   943.641618   22.653179   30.939306\nstd    115.459715    115.459715   109.425530    7.991006    6.039418\nmin      0.000000      0.000000   300.000000    7.000000   18.000000\n25%    107.250000    107.250000   900.000000   15.000000   27.000000\n50%    204.500000    204.500000  1000.000000   30.000000   30.000000\n75%    298.750000    298.750000  1000.000000   30.000000   35.000000\nmax    399.000000    399.000000  1000.000000   30.000000   51.000000"
                    },
                    "execution_count": 122,
                    "metadata": {},
                    "output_type": "execute_result"
                }
            ],
            "source": "df.describe()"
        },
        {
            "cell_type": "code",
            "execution_count": 123,
            "metadata": {},
            "outputs": [
                {
                    "data": {
                        "text/plain": "Unnamed: 0         int64\nUnnamed: 0.1       int64\nloan_status       object\nPrincipal          int64\nterms              int64\neffective_date    object\ndue_date          object\nage                int64\neducation         object\nGender            object\ndtype: object"
                    },
                    "execution_count": 123,
                    "metadata": {},
                    "output_type": "execute_result"
                }
            ],
            "source": "df.dtypes"
        },
        {
            "cell_type": "code",
            "execution_count": 124,
            "metadata": {},
            "outputs": [
                {
                    "data": {
                        "text/plain": "Unnamed: 0        0\nUnnamed: 0.1      0\nloan_status       0\nPrincipal         0\nterms             0\neffective_date    0\ndue_date          0\nage               0\neducation         0\nGender            0\ndtype: int64"
                    },
                    "execution_count": 124,
                    "metadata": {},
                    "output_type": "execute_result"
                }
            ],
            "source": "df.isna().sum()"
        },
        {
            "cell_type": "code",
            "execution_count": 125,
            "metadata": {},
            "outputs": [
                {
                    "data": {
                        "text/plain": "(346, 10)"
                    },
                    "execution_count": 125,
                    "metadata": {},
                    "output_type": "execute_result"
                }
            ],
            "source": "df.shape"
        },
        {
            "cell_type": "markdown",
            "metadata": {},
            "source": "## Data visualization and pre-processing\nLet\u2019s see how many of each class is in our data set"
        },
        {
            "cell_type": "code",
            "execution_count": 126,
            "metadata": {},
            "outputs": [
                {
                    "data": {
                        "text/plain": "PAIDOFF       260\nCOLLECTION     86\nName: loan_status, dtype: int64"
                    },
                    "execution_count": 126,
                    "metadata": {},
                    "output_type": "execute_result"
                }
            ],
            "source": "df['loan_status'].value_counts()"
        },
        {
            "cell_type": "markdown",
            "metadata": {},
            "source": "Lets plot some columns to underestand data better:"
        },
        {
            "cell_type": "code",
            "execution_count": 127,
            "metadata": {},
            "outputs": [
                {
                    "data": {
                        "image/png": "[encoded data removed]",
                        "text/plain": "<Figure size 432x216 with 2 Axes>"
                    },
                    "metadata": {
                        "needs_background": "light"
                    },
                    "output_type": "display_data"
                }
            ],
            "source": "import seaborn as sns\nbins = np.linspace(df.Principal.min(), df.Principal.max(), 10)\ng = sns.FacetGrid(df, col=\"Gender\", hue=\"loan_status\", palette=\"Set1\", col_wrap=2)\ng.map(plt.hist, 'Principal', bins=bins, ec=\"k\")\n\ng.axes[-1].legend()\nplt.show()"
        },
        {
            "cell_type": "code",
            "execution_count": 128,
            "metadata": {},
            "outputs": [
                {
                    "data": {
                        "image/png": "[encoded data removed]",
                        "text/plain": "<Figure size 432x216 with 2 Axes>"
                    },
                    "metadata": {
                        "needs_background": "light"
                    },
                    "output_type": "display_data"
                }
            ],
            "source": "bins = np.linspace(df.age.min(), df.age.max(), 10)\ng = sns.FacetGrid(df, col=\"Gender\", hue=\"loan_status\", palette=\"Set1\", col_wrap=2)\ng.map(plt.hist, 'age', bins=bins, ec=\"k\")\n\ng.axes[-1].legend()\nplt.show()"
        },
        {
            "cell_type": "markdown",
            "metadata": {},
            "source": "## Pre-processing: Feature selection/extraction"
        },
        {
            "cell_type": "code",
            "execution_count": 129,
            "metadata": {},
            "outputs": [
                {
                    "data": {
                        "text/plain": "High School or Below    151\ncollege                 149\nBechalor                 44\nMaster or Above           2\nName: education, dtype: int64"
                    },
                    "execution_count": 129,
                    "metadata": {},
                    "output_type": "execute_result"
                }
            ],
            "source": "df['education'].value_counts()"
        },
        {
            "cell_type": "code",
            "execution_count": 130,
            "metadata": {},
            "outputs": [
                {
                    "data": {
                        "text/plain": "male      294\nfemale     52\nName: Gender, dtype: int64"
                    },
                    "execution_count": 130,
                    "metadata": {},
                    "output_type": "execute_result"
                }
            ],
            "source": "df['Gender'].value_counts()"
        },
        {
            "cell_type": "code",
            "execution_count": 131,
            "metadata": {},
            "outputs": [
                {
                    "data": {
                        "text/plain": "array([[0, 1000, 30, 45, 'High School or Below', 'male'],\n       [2, 1000, 30, 33, 'Bechalor', 'female'],\n       [3, 1000, 15, 27, 'college', 'male'],\n       [4, 1000, 30, 28, 'college', 'female'],\n       [6, 1000, 30, 29, 'college', 'male']], dtype=object)"
                    },
                    "execution_count": 131,
                    "metadata": {},
                    "output_type": "execute_result"
                }
            ],
            "source": "x = df[['Unnamed: 0', 'Principal', 'terms', 'age', 'education', 'Gender']].values\nx[0:5]"
        },
        {
            "cell_type": "code",
            "execution_count": 132,
            "metadata": {
                "scrolled": true
            },
            "outputs": [
                {
                    "data": {
                        "text/plain": "array([[0, 1000, 30, 45, 1, 1],\n       [2, 1000, 30, 33, 0, 0],\n       [3, 1000, 15, 27, 3, 1],\n       [4, 1000, 30, 28, 3, 0],\n       [6, 1000, 30, 29, 3, 1]], dtype=object)"
                    },
                    "execution_count": 132,
                    "metadata": {},
                    "output_type": "execute_result"
                }
            ],
            "source": "from sklearn.preprocessing import LabelEncoder\n\nedu = LabelEncoder()\nedu.fit(['High School or Below', 'college', 'Bechalor', 'Master or Above'])\nx[:,4] = edu.transform(x[:,4])\n\ngen = LabelEncoder()\ngen.fit(['male', 'female'])\nx[:,5] = gen.transform(x[:,5])\nx[0:5]"
        },
        {
            "cell_type": "code",
            "execution_count": 133,
            "metadata": {
                "scrolled": true
            },
            "outputs": [
                {
                    "data": {
                        "text/plain": "array([[   0, 1000,   30,   45,    1,    1],\n       [   2, 1000,   30,   33,    0,    0],\n       [   3, 1000,   15,   27,    3,    1],\n       [   4, 1000,   30,   28,    3,    0],\n       [   6, 1000,   30,   29,    3,    1]])"
                    },
                    "execution_count": 133,
                    "metadata": {},
                    "output_type": "execute_result"
                }
            ],
            "source": "x = x.astype('int')\nx[0:5]"
        },
        {
            "cell_type": "code",
            "execution_count": 134,
            "metadata": {
                "scrolled": true
            },
            "outputs": [
                {
                    "data": {
                        "text/plain": "PAIDOFF       260\nCOLLECTION     86\nName: loan_status, dtype: int64"
                    },
                    "execution_count": 134,
                    "metadata": {},
                    "output_type": "execute_result"
                }
            ],
            "source": "df['loan_status'].value_counts()"
        },
        {
            "cell_type": "code",
            "execution_count": 135,
            "metadata": {},
            "outputs": [],
            "source": "loan = LabelEncoder()\nloan.fit(['PAIDOFF', 'COLLECTION'])\ndf['loan_status'] = loan.transform(df['loan_status'])"
        },
        {
            "cell_type": "code",
            "execution_count": 136,
            "metadata": {},
            "outputs": [
                {
                    "data": {
                        "text/plain": "array([1, 1, 1, 1, 1])"
                    },
                    "execution_count": 136,
                    "metadata": {},
                    "output_type": "execute_result"
                }
            ],
            "source": "y = df['loan_status'].values\ny[0:5]"
        },
        {
            "cell_type": "markdown",
            "metadata": {},
            "source": "### Normalize Data\nData Standardization give data zero mean and unit variance (technically should be done after train test split )"
        },
        {
            "cell_type": "code",
            "execution_count": 137,
            "metadata": {},
            "outputs": [
                {
                    "data": {
                        "text/plain": "array([[-1.75351563,  0.51578458,  0.92071769,  2.33152555, -0.64691859,\n         0.42056004],\n       [-1.73616849,  0.51578458,  0.92071769,  0.34170148, -1.5212695 ,\n        -2.37778177],\n       [-1.72749491,  0.51578458, -0.95911111, -0.65321055,  1.10178323,\n         0.42056004],\n       [-1.71882134,  0.51578458,  0.92071769, -0.48739188,  1.10178323,\n        -2.37778177],\n       [-1.7014742 ,  0.51578458,  0.92071769, -0.3215732 ,  1.10178323,\n         0.42056004]])"
                    },
                    "execution_count": 137,
                    "metadata": {},
                    "output_type": "execute_result"
                }
            ],
            "source": "from sklearn.preprocessing import StandardScaler\n\nscl = StandardScaler()\nx = scl.fit_transform(x)\nx[0:5]"
        },
        {
            "cell_type": "markdown",
            "metadata": {},
            "source": "## Training/ Testing split"
        },
        {
            "cell_type": "code",
            "execution_count": 139,
            "metadata": {},
            "outputs": [
                {
                    "name": "stdout",
                    "output_type": "stream",
                    "text": "(242, 6)\n(104, 6)\n(242,)\n(104,)\n"
                }
            ],
            "source": "from sklearn.model_selection import train_test_split\nx_train,x_test,y_train,y_test = train_test_split(x,y,test_size=0.3,random_state=3)\nprint(x_train.shape)\nprint(x_test.shape)\nprint(y_train.shape)\nprint(y_test.shape)"
        },
        {
            "cell_type": "markdown",
            "metadata": {},
            "source": "## Classification\nNow, it is your turn, use the training set to build an accurate model. Then use the test set to report the accuracy of the model You should use the following algorithm:\n<ul>\n<li>K Nearest Neighbor(KNN)</li>\n<li>Decision Tree</li>\n<li>Support Vector Machine</li>\n<li>Logistic Regression</li>\n</ul>\n\n\n\n"
        },
        {
            "cell_type": "markdown",
            "metadata": {},
            "source": "###  K Nearest Neighbor(KNN)\nNotice: You should find the best k to build the model with the best accuracy.\n**warning**: You should not use the **loan_test.csv** for finding the best k, however, you can split your train_loan.csv into train and test to find the best **k**."
        },
        {
            "cell_type": "code",
            "execution_count": 140,
            "metadata": {
                "scrolled": true
            },
            "outputs": [
                {
                    "name": "stdout",
                    "output_type": "stream",
                    "text": "The highest the jaccard score - the better the performance\nThe highest accuracy ( 0.925 ) we got at k=  4\n"
                },
                {
                    "data": {
                        "image/png": "[encoded data removed]",
                        "text/plain": "<Figure size 432x288 with 1 Axes>"
                    },
                    "metadata": {
                        "needs_background": "light"
                    },
                    "output_type": "display_data"
                }
            ],
            "source": "from sklearn.neighbors import KNeighborsClassifier\nfrom sklearn.metrics import jaccard_score\nfrom sklearn.metrics import classification_report, confusion_matrix, f1_score\nfrom sklearn.metrics import log_loss\nj=[]\nf=[]\nl=[]\nfor i in range(1, 10):\n    knn = KNeighborsClassifier(n_neighbors=i)\n    knn.fit(x_train, y_train)\n    y_pre = knn.predict(x_test)\n    j.append(jaccard_score(y_pre, y_test))\n    #cm = confusion_matrix(y_test, y_pre, labels=[1,0])\n    #cr = classification_report(y_test, y_pre)\n    f.append(f1_score(y_pre, y_test))\n    l.append(log_loss(y_pre, y_test))\nxx = np.arange(1,10,1)\nplt.plot(xx, j, 'r')\nplt.title('Jaccard Accuracy graph')\nplt.xlabel('k')\nplt.ylabel('Accuracy')\nprint(\"The highest the jaccard score - the better the performance\")\nprint(\"The highest accuracy (\",max(j),\") we got at k= \", (j.index(max(j)))+1)"
        },
        {
            "cell_type": "code",
            "execution_count": 141,
            "metadata": {
                "scrolled": true
            },
            "outputs": [
                {
                    "name": "stdout",
                    "output_type": "stream",
                    "text": "The Highest the f1 score - the better the performance\nThe Highest accuracy ( 0.961 ) we got at k=  4\n"
                },
                {
                    "data": {
                        "image/png": "[encoded data removed]",
                        "text/plain": "<Figure size 432x288 with 1 Axes>"
                    },
                    "metadata": {
                        "needs_background": "light"
                    },
                    "output_type": "display_data"
                }
            ],
            "source": "plt.plot(xx, f, 'r')\nplt.title('f1 score Accuracy graph')\nplt.xlabel('k')\nplt.ylabel('Accuracy')\nplt.show\n\nprint(\"The Highest the f1 score - the better the performance\")\nprint(\"The Highest accuracy (\",'%.3f'%max(f),\") we got at k= \", (f.index(max(f)))+1)"
        },
        {
            "cell_type": "code",
            "execution_count": 142,
            "metadata": {
                "scrolled": true
            },
            "outputs": [
                {
                    "name": "stdout",
                    "output_type": "stream",
                    "text": "The Lowest the LogLoss score - the better the performance\nThe Lowest accuracy ( 1.993 ) we got at k=  4\n"
                },
                {
                    "data": {
                        "image/png": "[encoded data removed]",
                        "text/plain": "<Figure size 432x288 with 1 Axes>"
                    },
                    "metadata": {
                        "needs_background": "light"
                    },
                    "output_type": "display_data"
                }
            ],
            "source": "plt.plot(xx, l, 'r')\nplt.title('LogLoss Accuracy graph')\nplt.xlabel('k')\nplt.ylabel('Accuracy')\nplt.show\n\nprint(\"The Lowest the LogLoss score - the better the performance\")\nprint(\"The Lowest accuracy (\",'%.3f'%min(l),\") we got at k= \", (l.index(min(l)))+1)"
        },
        {
            "cell_type": "markdown",
            "metadata": {},
            "source": "##  Decision Tree"
        },
        {
            "cell_type": "code",
            "execution_count": 143,
            "metadata": {},
            "outputs": [
                {
                    "data": {
                        "text/plain": "DecisionTreeClassifier(criterion='entropy', max_depth=4)"
                    },
                    "execution_count": 143,
                    "metadata": {},
                    "output_type": "execute_result"
                }
            ],
            "source": "from sklearn.tree import DecisionTreeClassifier\nloan_tree = DecisionTreeClassifier(criterion=\"entropy\", max_depth=4)\nloan_tree.fit(x_train, y_train)"
        },
        {
            "cell_type": "code",
            "execution_count": 144,
            "metadata": {},
            "outputs": [
                {
                    "data": {
                        "text/plain": "array([1, 1, 0, 0, 1])"
                    },
                    "execution_count": 144,
                    "metadata": {},
                    "output_type": "execute_result"
                }
            ],
            "source": "yTre_pre = loan_tree.predict(x_test)\nyTre_pre[0:5]"
        },
        {
            "cell_type": "code",
            "execution_count": 145,
            "metadata": {
                "scrolled": true
            },
            "outputs": [
                {
                    "name": "stdout",
                    "output_type": "stream",
                    "text": "The jaccard similarity score of this model is:  0.987012987012987\n"
                }
            ],
            "source": "j_tree = jaccard_score(yTre_pre, y_test)\nprint(\"The jaccard similarity score of this model is: \", j_tree)"
        },
        {
            "cell_type": "code",
            "execution_count": 146,
            "metadata": {
                "scrolled": true
            },
            "outputs": [
                {
                    "name": "stdout",
                    "output_type": "stream",
                    "text": "[[76  0]\n [ 1 27]]\n              precision    recall  f1-score   support\n\n           0       1.00      0.96      0.98        28\n           1       0.99      1.00      0.99        76\n\n    accuracy                           0.99       104\n   macro avg       0.99      0.98      0.99       104\nweighted avg       0.99      0.99      0.99       104\n\nThe f1 score of this model is:  0.9934640522875817\n"
                }
            ],
            "source": "cm_tree = confusion_matrix(yTre_pre, y_test, labels=[1,0])\ncr_tree = classification_report(yTre_pre, y_test)\nprint(cm_tree)\nprint(cr_tree)\nf1_tree = f1_score(yTre_pre, y_test)\nprint(\"The f1 score of this model is: \", f1_tree)"
        },
        {
            "cell_type": "code",
            "execution_count": 147,
            "metadata": {},
            "outputs": [
                {
                    "name": "stdout",
                    "output_type": "stream",
                    "text": "The logloss score of this model is:  0.33211130761866325\n"
                }
            ],
            "source": "l_tree = log_loss(yTre_pre, y_test)\nprint(\"The logloss score of this model is: \", l_tree)"
        },
        {
            "cell_type": "code",
            "execution_count": 148,
            "metadata": {},
            "outputs": [
                {
                    "name": "stdout",
                    "output_type": "stream",
                    "text": "Decision's Accuracy:  0.9903846153846154\n"
                }
            ],
            "source": "from sklearn.metrics import accuracy_score\nprint(\"Decision's Accuracy: \",accuracy_score(yTre_pre, y_test))"
        },
        {
            "cell_type": "markdown",
            "metadata": {},
            "source": "## Support Vector Machine (SVM)"
        },
        {
            "cell_type": "code",
            "execution_count": 149,
            "metadata": {},
            "outputs": [
                {
                    "data": {
                        "text/plain": "SVC()"
                    },
                    "execution_count": 149,
                    "metadata": {},
                    "output_type": "execute_result"
                }
            ],
            "source": "from sklearn import svm\nloan_svm = svm.SVC(kernel='rbf')\nloan_svm.fit(x_train, y_train)"
        },
        {
            "cell_type": "code",
            "execution_count": 150,
            "metadata": {},
            "outputs": [
                {
                    "data": {
                        "text/plain": "array([1, 1, 0, 0, 1])"
                    },
                    "execution_count": 150,
                    "metadata": {},
                    "output_type": "execute_result"
                }
            ],
            "source": "yS_pre = loan_svm.predict(x_test)\nyS_pre[0:5]"
        },
        {
            "cell_type": "code",
            "execution_count": 151,
            "metadata": {},
            "outputs": [
                {
                    "name": "stdout",
                    "output_type": "stream",
                    "text": "The jaccard similarity score of this model is:  0.9746835443037974\n"
                }
            ],
            "source": "j_svm = jaccard_score(yS_pre, y_test)\nprint(\"The jaccard similarity score of this model is: \", j_svm)"
        },
        {
            "cell_type": "code",
            "execution_count": 152,
            "metadata": {
                "scrolled": true
            },
            "outputs": [
                {
                    "name": "stdout",
                    "output_type": "stream",
                    "text": "[[77  2]\n [ 0 25]]\n              precision    recall  f1-score   support\n\n           0       0.93      1.00      0.96        25\n           1       1.00      0.97      0.99        79\n\n    accuracy                           0.98       104\n   macro avg       0.96      0.99      0.97       104\nweighted avg       0.98      0.98      0.98       104\n\nThe f1 score of this model is:  0.9871794871794872\n"
                }
            ],
            "source": "cm_svm = confusion_matrix(yS_pre, y_test, labels=[1,0])\ncr_svm = classification_report(yS_pre, y_test)\nprint(cm_svm)\nprint(cr_svm)\nf1_svm = f1_score(yS_pre, y_test)\nprint(\"The f1 score of this model is: \", f1_svm)"
        },
        {
            "cell_type": "code",
            "execution_count": 153,
            "metadata": {},
            "outputs": [
                {
                    "name": "stdout",
                    "output_type": "stream",
                    "text": "The logloss score of this model is:  0.6642072383636681\n"
                }
            ],
            "source": "l_svm = log_loss(yS_pre, y_test)\nprint(\"The logloss score of this model is: \", l_svm)"
        },
        {
            "cell_type": "code",
            "execution_count": 154,
            "metadata": {},
            "outputs": [
                {
                    "name": "stdout",
                    "output_type": "stream",
                    "text": "SVM's Accuracy:  0.9807692307692307\n"
                }
            ],
            "source": "from sklearn.metrics import accuracy_score\nprint(\"SVM's Accuracy: \",accuracy_score(yS_pre, y_test))"
        },
        {
            "cell_type": "markdown",
            "metadata": {},
            "source": "## Logistic Regression"
        },
        {
            "cell_type": "code",
            "execution_count": 155,
            "metadata": {},
            "outputs": [
                {
                    "data": {
                        "text/plain": "LogisticRegression(C=0.01, solver='liblinear')"
                    },
                    "execution_count": 155,
                    "metadata": {},
                    "output_type": "execute_result"
                }
            ],
            "source": "from sklearn.linear_model import LogisticRegression\nloan_log = LogisticRegression(C=0.01, solver='liblinear')\nloan_log.fit(x_train, y_train)"
        },
        {
            "cell_type": "code",
            "execution_count": 157,
            "metadata": {},
            "outputs": [
                {
                    "data": {
                        "text/plain": "array([1, 1, 0, 0, 1])"
                    },
                    "execution_count": 157,
                    "metadata": {},
                    "output_type": "execute_result"
                }
            ],
            "source": "yL_pre = loan_log.predict(x_test)\nyL_pre[0:5]"
        },
        {
            "cell_type": "code",
            "execution_count": 158,
            "metadata": {
                "scrolled": true
            },
            "outputs": [
                {
                    "name": "stdout",
                    "output_type": "stream",
                    "text": "The jaccard similarity score of this model is:  0.961038961038961\n"
                }
            ],
            "source": "j_log = jaccard_score(yL_pre, y_test)\nprint(\"The jaccard similarity score of this model is: \", j_log)"
        },
        {
            "cell_type": "code",
            "execution_count": 159,
            "metadata": {
                "scrolled": true
            },
            "outputs": [
                {
                    "name": "stdout",
                    "output_type": "stream",
                    "text": "[[74  0]\n [ 3 27]]\n              precision    recall  f1-score   support\n\n           0       1.00      0.90      0.95        30\n           1       0.96      1.00      0.98        74\n\n    accuracy                           0.97       104\n   macro avg       0.98      0.95      0.96       104\nweighted avg       0.97      0.97      0.97       104\n\nThe f1 score of this model is:  0.9801324503311257\n"
                }
            ],
            "source": "cm_log = confusion_matrix(yL_pre, y_test, labels=[1,0])\ncr_log = classification_report(yL_pre, y_test)\nprint(cm_log)\nprint(cr_log)\nf1_log = f1_score(yL_pre, y_test)\nprint(\"The f1 score of this model is: \", f1_log)"
        },
        {
            "cell_type": "code",
            "execution_count": 160,
            "metadata": {},
            "outputs": [
                {
                    "name": "stdout",
                    "output_type": "stream",
                    "text": "The logloss score of this model is:  0.9963339228559878\n"
                }
            ],
            "source": "l_log = log_loss(yL_pre, y_test)\nprint(\"The logloss score of this model is: \", l_log)"
        },
        {
            "cell_type": "code",
            "execution_count": 161,
            "metadata": {
                "scrolled": true
            },
            "outputs": [
                {
                    "name": "stdout",
                    "output_type": "stream",
                    "text": "Logistic Regression's Accuracy:  0.9711538461538461\n"
                }
            ],
            "source": "from sklearn.metrics import accuracy_score\nprint(\"Logistic Regression's Accuracy: \",accuracy_score(yL_pre, y_test))"
        },
        {
            "cell_type": "code",
            "execution_count": 163,
            "metadata": {},
            "outputs": [
                {
                    "data": {
                        "text/html": "<div>\n<style scoped>\n    .dataframe tbody tr th:only-of-type {\n        vertical-align: middle;\n    }\n\n    .dataframe tbody tr th {\n        vertical-align: top;\n    }\n\n    .dataframe thead th {\n        text-align: right;\n    }\n</style>\n<table border=\"1\" class=\"dataframe\">\n  <thead>\n    <tr style=\"text-align: right;\">\n      <th></th>\n      <th>Jaccard score</th>\n      <th>f1 score</th>\n      <th>Logloss score</th>\n    </tr>\n  </thead>\n  <tbody>\n    <tr>\n      <th>KNN</th>\n      <td>0.925000</td>\n      <td>0.961039</td>\n      <td>1.992645</td>\n    </tr>\n    <tr>\n      <th>Decision Tree</th>\n      <td>0.987013</td>\n      <td>0.993464</td>\n      <td>0.332111</td>\n    </tr>\n    <tr>\n      <th>SVM</th>\n      <td>0.974684</td>\n      <td>0.987179</td>\n      <td>0.664207</td>\n    </tr>\n    <tr>\n      <th>Logistic Regression</th>\n      <td>0.961039</td>\n      <td>0.980132</td>\n      <td>0.996334</td>\n    </tr>\n  </tbody>\n</table>\n</div>",
                        "text/plain": "                     Jaccard score  f1 score  Logloss score\nKNN                       0.925000  0.961039       1.992645\nDecision Tree             0.987013  0.993464       0.332111\nSVM                       0.974684  0.987179       0.664207\nLogistic Regression       0.961039  0.980132       0.996334"
                    },
                    "execution_count": 163,
                    "metadata": {},
                    "output_type": "execute_result"
                }
            ],
            "source": "data = [[max(j), max(f), min(l)], [j_tree, f1_tree, l_tree], [j_svm, f1_svm, l_svm], [j_log, f1_log, l_log]]\ntable = pd.DataFrame(data, columns=['Jaccard score', 'f1 score', 'Logloss score'], index = ['KNN', 'Decision Tree','SVM', 'Logistic Regression'])\ntable"
        },
        {
            "cell_type": "markdown",
            "metadata": {},
            "source": "**Decision Tree** is The best classification algorithm sutaible for this dataset to predict whether a loan case will be **paid** off or **not**"
        }
    ],
    "metadata": {
        "kernelspec": {
            "display_name": "Python 3.8",
            "language": "python",
            "name": "python3"
        },
        "language_info": {
            "codemirror_mode": {
                "name": "ipython",
                "version": 3
            },
            "file_extension": ".py",
            "mimetype": "text/x-python",
            "name": "python",
            "nbconvert_exporter": "python",
            "pygments_lexer": "ipython3",
            "version": "3.8.12"
        }
    },
    "nbformat": 4,
    "nbformat_minor": 1
}